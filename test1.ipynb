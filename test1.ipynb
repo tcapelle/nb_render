{
 "cells": [
  {
   "cell_type": "markdown",
   "id": "22486c43-98b1-4fea-9670-74a2e8800eb2",
   "metadata": {},
   "source": [
    "<img src=\"https://i.imgur.com/gb6B4ig.png\" width=\"400\" alt=\"Weights & Biases\" />\n",
    "\n",
    "<!--- @wandbcode{tables_mendeleev} -->\n",
    "\n",
    "# Image Classification with W&B Tables\n",
    "\n",
    "This is a walkthrough of [Tables for visualization](https://docs.wandb.ai/guides/data-vis/tables) and [Artifacts for versioning](https://docs.wandb.com/artifacts) deep learning models in Weights & Biases. As an example, I finetune a convnet in Keras on photos from  [iNaturalist 2017](https://github.com/visipedia/inat_comp/tree/master/2017) to identify 10 classes of living things (plants, insects, birds, etc). \n",
    "\n",
    "<img src=\"https://i.imgur.com/PK4VA6u.png\"\n",
    "alt=\"Table comparison example\"/>\n",
    "\n",
    "## [Explore more examples in this W&B Report](https://wandb.ai/stacey/mendeleev/reports/DSViz-for-Image-Classification--VmlldzozNjE3NjA)\n",
    "\n",
    "\n",
    "## Sign up or login\n",
    "\n",
    "[Sign up or login](https://wandb.ai/login) to W&B to see and interact with your experiments in the browser.\n",
    "\n",
    "In this example we're using Google Colab as a convenient hosted environment, but you can run your own training scripts from anywhere and visualize metrics with W&B's experiment tracking tool."
   ]
  },
  {
   "cell_type": "code",
   "execution_count": 7,
   "id": "b87648e1-6cb0-48fe-a623-b4c79e1fa2fc",
   "metadata": {},
   "outputs": [],
   "source": [
    "def f(x): return x"
   ]
  },
  {
   "cell_type": "code",
   "execution_count": 8,
   "id": "14362df8-8e3b-452c-8aef-e0baa05ebdd9",
   "metadata": {},
   "outputs": [],
   "source": [
    "def f(x): return x"
   ]
  },
  {
   "cell_type": "markdown",
   "id": "dd7ad9ce-27e2-414b-8299-150367fc149a",
   "metadata": {},
   "source": [
    "# Hola\n",
    " My hola"
   ]
  },
  {
   "cell_type": "markdown",
   "id": "204cea55-8e34-4c4f-ab79-6e0f71cf5675",
   "metadata": {},
   "source": [
    "# Download sample data Choose 1 of 4 sizes\n",
    "\n",
    "Choose one of the three dataset size options below to run the rest of the demo. \n",
    "\n",
    "With fewer images, you'll run through the demo much faster and use less storage space. \n",
    "\n",
    "With more images, you'll get more realistic model training and more interesting results and examples to explore."
   ]
  },
  {
   "cell_type": "code",
   "execution_count": null,
   "id": "e8cde398-c349-46aa-97a4-27fbc94be2ea",
   "metadata": {},
   "outputs": [],
   "source": []
  }
 ],
 "metadata": {
  "kernelspec": {
   "display_name": "Python 3 (ipykernel)",
   "language": "python",
   "name": "python3"
  },
  "language_info": {
   "codemirror_mode": {
    "name": "ipython",
    "version": 3
   },
   "file_extension": ".py",
   "mimetype": "text/x-python",
   "name": "python",
   "nbconvert_exporter": "python",
   "pygments_lexer": "ipython3",
   "version": "3.9.7"
  }
 },
 "nbformat": 4,
 "nbformat_minor": 5
}
