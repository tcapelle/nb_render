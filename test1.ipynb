{
 "cells": [
  {
   "cell_type": "markdown",
   "id": "22486c43-98b1-4fea-9670-74a2e8800eb2",
   "metadata": {},
   "source": [
    "<img src=\"https://i.imgur.com/gb6B4ig.png\" width=\"400\" alt=\"Weights & Biases\" />\n",
    "\n",
    "<!--- @wandbcode{tables_mendeleev} -->\n",
    "\n",
    "# Image Classification with W&B Tables\n",
    "\n",
    "This is a walkthrough of [Tables for visualization](https://docs.wandb.ai/guides/data-vis/tables) and [Artifacts for versioning](https://docs.wandb.com/artifacts) deep learning models in Weights & Biases. As an example, I finetune a convnet in Keras on photos from  [iNaturalist 2017](https://github.com/visipedia/inat_comp/tree/master/2017) to identify 10 classes of living things (plants, insects, birds, etc). \n",
    "\n",
    "<img src=\"https://i.imgur.com/PK4VA6u.png\"\n",
    "alt=\"Table comparison example\"/>\n",
    "\n",
    "## [Explore more examples in this W&B Report](https://wandb.ai/stacey/mendeleev/reports/DSViz-for-Image-Classification--VmlldzozNjE3NjA)\n",
    "\n",
    "\n",
    "## Sign up or login\n",
    "\n",
    "[Sign up or login](https://wandb.ai/login) to W&B to see and interact with your experiments in the browser.\n",
    "\n",
    "In this example we're using Google Colab as a convenient hosted environment, but you can run your own training scripts from anywhere and visualize metrics with W&B's experiment tracking tool."
   ]
  }
 ],
 "metadata": {
  "kernelspec": {
   "display_name": "Python 3 (ipykernel)",
   "language": "python",
   "name": "python3"
  },
  "language_info": {
   "codemirror_mode": {
    "name": "ipython",
    "version": 3
   },
   "file_extension": ".py",
   "mimetype": "text/x-python",
   "name": "python",
   "nbconvert_exporter": "python",
   "pygments_lexer": "ipython3",
   "version": "3.9.7"
  }
 },
 "nbformat": 4,
 "nbformat_minor": 5
}
