{
 "cells": [
  {
   "cell_type": "markdown",
   "id": "6ac3bb7c-9fa7-4d52-9d68-48aaa8e81a2b",
   "metadata": {},
   "source": [
    "# Download sample data Choose 1 of 4 sizes"
   ]
  },
  {
   "cell_type": "code",
   "execution_count": null,
   "id": "88157128-d05f-4069-866f-ce33b4f0ba70",
   "metadata": {},
   "outputs": [],
   "source": [
    "x = 3"
   ]
  },
  {
   "cell_type": "code",
   "execution_count": null,
   "id": "e7b6ed40-835e-4f7e-8d1b-ba2599fa7d29",
   "metadata": {},
   "outputs": [],
   "source": []
  }
 ],
 "metadata": {
  "kernelspec": {
   "display_name": "Python 3 (ipykernel)",
   "language": "python",
   "name": "python3"
  }
 },
 "nbformat": 4,
 "nbformat_minor": 5
}
