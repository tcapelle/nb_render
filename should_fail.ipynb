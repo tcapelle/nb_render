{
 "cells": [
  {
   "cell_type": "markdown",
   "id": "600bdbe3-f06b-4c8a-a4b1-7f08a77d9503",
   "metadata": {},
   "source": [
    "# Should also fail: but it does not!"
   ]
  },
  {
   "cell_type": "code",
   "execution_count": null,
   "id": "b5639cb7-5a43-4e41-9cd0-3a377d9add1c",
   "metadata": {},
   "outputs": [],
   "source": [
    "x = 3"
   ]
  },
  {
   "cell_type": "markdown",
   "id": "b41886f8-bf87-431a-b429-34b9d64a2366",
   "metadata": {},
   "source": [
    "# datas: its the wrong word?"
   ]
  },
  {
   "cell_type": "code",
   "execution_count": null,
   "id": "395e43ad-3833-4b4a-8aa5-968f36480186",
   "metadata": {},
   "outputs": [],
   "source": []
  }
 ],
 "metadata": {
  "kernelspec": {
   "display_name": "Python 3 (ipykernel)",
   "language": "python",
   "name": "python3"
  }
 },
 "nbformat": 4,
 "nbformat_minor": 5
}
