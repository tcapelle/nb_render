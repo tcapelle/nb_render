{
 "cells": [
  {
   "cell_type": "markdown",
   "id": "600bdbe3-f06b-4c8a-a4b1-7f08a77d9503",
   "metadata": {},
   "source": [
    "# Should also fail: but it does not!"
   ]
  }
 ],
 "metadata": {
  "kernelspec": {
   "display_name": "Python 3 (ipykernel)",
   "language": "python",
   "name": "python3"
  }
 },
 "nbformat": 4,
 "nbformat_minor": 5
}
