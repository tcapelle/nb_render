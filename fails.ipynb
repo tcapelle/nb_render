{
 "cells": [
  {
   "cell_type": "markdown",
   "id": "6ac3bb7c-9fa7-4d52-9d68-48aaa8e81a2b",
   "metadata": {},
   "source": [
    "# Download sample data: Choose 1 of 4 sizes"
   ]
  },
  {
   "cell_type": "code",
   "execution_count": null,
   "id": "88157128-d05f-4069-866f-ce33b4f0ba70",
   "metadata": {},
   "outputs": [],
   "source": [
    "x = 3"
   ]
  },
  {
   "cell_type": "code",
   "execution_count": null,
   "id": "33a2e0d2-1f9d-418d-8b1a-fdef24f03fb1",
   "metadata": {},
   "outputs": [],
   "source": []
  }
 ],
 "metadata": {
  "kernelspec": {
   "display_name": "Python 3 (ipykernel)",
   "language": "python",
   "name": "python3"
  }
 },
 "nbformat": 4,
 "nbformat_minor": 5
}
