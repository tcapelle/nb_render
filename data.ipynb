{
 "cells": [
  {
   "cell_type": "markdown",
   "id": "f6e1eedf-f3eb-4c78-be47-e291930508be",
   "metadata": {},
   "source": [
    "# data: not working"
   ]
  },
  {
   "cell_type": "code",
   "execution_count": null,
   "id": "ee8de70b-ba46-421c-9371-f9fa45055b3f",
   "metadata": {},
   "outputs": [],
   "source": []
  }
 ],
 "metadata": {
  "kernelspec": {
   "display_name": "Python 3 (ipykernel)",
   "language": "python",
   "name": "python3"
  },
  "language_info": {
   "codemirror_mode": {
    "name": "ipython",
    "version": 3
   },
   "file_extension": ".py",
   "mimetype": "text/x-python",
   "name": "python",
   "nbconvert_exporter": "python",
   "pygments_lexer": "ipython3",
   "version": "3.10.0"
  }
 },
 "nbformat": 4,
 "nbformat_minor": 5
}
