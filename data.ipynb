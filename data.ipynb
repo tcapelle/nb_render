{
 "cells": [
  {
   "cell_type": "markdown",
   "id": "95c9aacd-94b5-4ee0-b528-eafdcca3f0d4",
   "metadata": {},
   "source": [
    "# data : data"
   ]
  },
  {
   "cell_type": "code",
   "execution_count": null,
   "id": "b35effee-5235-47c2-9392-b11c1da91706",
   "metadata": {},
   "outputs": [],
   "source": []
  }
 ],
 "metadata": {
  "kernelspec": {
   "display_name": "Python 3 (ipykernel)",
   "language": "python",
   "name": "python3"
  },
  "language_info": {
   "codemirror_mode": {
    "name": "ipython",
    "version": 3
   },
   "file_extension": ".py",
   "mimetype": "text/x-python",
   "name": "python",
   "nbconvert_exporter": "python",
   "pygments_lexer": "ipython3",
   "version": "3.9.7"
  }
 },
 "nbformat": 4,
 "nbformat_minor": 5
}
