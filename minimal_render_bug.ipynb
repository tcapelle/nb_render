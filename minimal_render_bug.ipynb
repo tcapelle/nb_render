{
 "cells": [
  {
   "cell_type": "markdown",
   "id": "5416ebf3-8273-4942-8225-7296754426e1",
   "metadata": {},
   "source": [
    "# This nb does not render: Cause I put a `colons`\n",
    "\n",
    "An some text"
   ]
  }
 ],
 "metadata": {
  "kernelspec": {
   "display_name": "Python 3 (ipykernel)",
   "language": "python",
   "name": "python3"
  },
  "language_info": {
   "codemirror_mode": {
    "name": "ipython",
    "version": 3
   },
   "file_extension": ".py",
   "mimetype": "text/x-python",
   "name": "python",
   "nbconvert_exporter": "python",
   "pygments_lexer": "ipython3",
   "version": "3.9.7"
  }
 },
 "nbformat": 4,
 "nbformat_minor": 5
}
