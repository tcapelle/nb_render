{
 "cells": [
  {
   "cell_type": "markdown",
   "id": "1b1b5316-8c2b-4c78-a00b-4d614476e1e6",
   "metadata": {},
   "source": [
    "# a:a"
   ]
  },
  {
   "cell_type": "code",
   "execution_count": null,
   "id": "a54b0a27-0ada-43d4-a091-44c029d9f586",
   "metadata": {},
   "outputs": [],
   "source": []
  }
 ],
 "metadata": {
  "kernelspec": {
   "display_name": "Python 3 (ipykernel)",
   "language": "python",
   "name": "python3"
  },
  "language_info": {
   "codemirror_mode": {
    "name": "ipython",
    "version": 3
   },
   "file_extension": ".py",
   "mimetype": "text/x-python",
   "name": "python",
   "nbconvert_exporter": "python",
   "pygments_lexer": "ipython3",
   "version": "3.9.7"
  }
 },
 "nbformat": 4,
 "nbformat_minor": 5
}
